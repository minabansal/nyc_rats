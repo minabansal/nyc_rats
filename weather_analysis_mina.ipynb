{
 "cells": [
  {
   "cell_type": "markdown",
   "metadata": {},
   "source": [
    "# Weather/Borough Analysis of Rat Sightings"
   ]
  },
  {
   "cell_type": "code",
   "execution_count": 1,
   "metadata": {},
   "outputs": [],
   "source": [
    "# Importing dependencies\n",
    "import pandas as pd\n",
    "import numpy as np\n",
    "import matplotlib.pyplot as plt\n",
    "import scipy.stats as stats\n",
    "\n",
    "from datetime import datetime,date\n",
    "\n",
    "import warnings\n",
    "warnings.filterwarnings('ignore')"
   ]
  },
  {
   "cell_type": "code",
   "execution_count": 2,
   "metadata": {},
   "outputs": [],
   "source": [
    "# Opening datasets needed for analysis\n",
    "\n",
    "rat_data = pd.read_csv('clean_csv/final_rat_sightings.csv')\n",
    "rest_data = pd.read_csv('clean_csv/final_rat_violations.csv')\n",
    "weather_data = pd.read_csv('clean_csv/final_weather.csv')"
   ]
  },
  {
   "cell_type": "code",
   "execution_count": 3,
   "metadata": {},
   "outputs": [
    {
     "data": {
      "text/html": [
       "<div>\n",
       "<style scoped>\n",
       "    .dataframe tbody tr th:only-of-type {\n",
       "        vertical-align: middle;\n",
       "    }\n",
       "\n",
       "    .dataframe tbody tr th {\n",
       "        vertical-align: top;\n",
       "    }\n",
       "\n",
       "    .dataframe thead th {\n",
       "        text-align: right;\n",
       "    }\n",
       "</style>\n",
       "<table border=\"1\" class=\"dataframe\">\n",
       "  <thead>\n",
       "    <tr style=\"text-align: right;\">\n",
       "      <th></th>\n",
       "      <th>Unnamed: 0</th>\n",
       "      <th>Date</th>\n",
       "      <th>Max Temp (F)</th>\n",
       "      <th>Mean Temp (F)</th>\n",
       "      <th>Min Temp (F)</th>\n",
       "      <th>Max Humidity</th>\n",
       "      <th>Mean Humidity</th>\n",
       "      <th>Min Humidity</th>\n",
       "      <th>Max Pressure (In)</th>\n",
       "      <th>Mean Pressure (In)</th>\n",
       "      <th>Min Pressure (In)</th>\n",
       "      <th>Precipitation (In)</th>\n",
       "      <th>City</th>\n",
       "      <th>Season</th>\n",
       "    </tr>\n",
       "  </thead>\n",
       "  <tbody>\n",
       "    <tr>\n",
       "      <th>0</th>\n",
       "      <td>0</td>\n",
       "      <td>2010-01-02</td>\n",
       "      <td>33</td>\n",
       "      <td>25.0</td>\n",
       "      <td>17</td>\n",
       "      <td>89</td>\n",
       "      <td>68</td>\n",
       "      <td>46</td>\n",
       "      <td>29.70</td>\n",
       "      <td>29.67</td>\n",
       "      <td>29.62</td>\n",
       "      <td>0.01</td>\n",
       "      <td>New York City (USA)</td>\n",
       "      <td>Winter</td>\n",
       "    </tr>\n",
       "    <tr>\n",
       "      <th>1</th>\n",
       "      <td>1</td>\n",
       "      <td>2010-01-03</td>\n",
       "      <td>24</td>\n",
       "      <td>21.0</td>\n",
       "      <td>18</td>\n",
       "      <td>62</td>\n",
       "      <td>53</td>\n",
       "      <td>44</td>\n",
       "      <td>29.64</td>\n",
       "      <td>29.55</td>\n",
       "      <td>29.47</td>\n",
       "      <td>0.00</td>\n",
       "      <td>New York City (USA)</td>\n",
       "      <td>Winter</td>\n",
       "    </tr>\n",
       "    <tr>\n",
       "      <th>2</th>\n",
       "      <td>2</td>\n",
       "      <td>2010-01-04</td>\n",
       "      <td>32</td>\n",
       "      <td>26.0</td>\n",
       "      <td>20</td>\n",
       "      <td>62</td>\n",
       "      <td>53</td>\n",
       "      <td>43</td>\n",
       "      <td>29.76</td>\n",
       "      <td>29.71</td>\n",
       "      <td>29.66</td>\n",
       "      <td>0.00</td>\n",
       "      <td>New York City (USA)</td>\n",
       "      <td>Winter</td>\n",
       "    </tr>\n",
       "    <tr>\n",
       "      <th>3</th>\n",
       "      <td>3</td>\n",
       "      <td>2010-01-05</td>\n",
       "      <td>32</td>\n",
       "      <td>27.0</td>\n",
       "      <td>21</td>\n",
       "      <td>62</td>\n",
       "      <td>53</td>\n",
       "      <td>43</td>\n",
       "      <td>29.76</td>\n",
       "      <td>29.73</td>\n",
       "      <td>29.68</td>\n",
       "      <td>0.00</td>\n",
       "      <td>New York City (USA)</td>\n",
       "      <td>Winter</td>\n",
       "    </tr>\n",
       "    <tr>\n",
       "      <th>4</th>\n",
       "      <td>4</td>\n",
       "      <td>2010-01-06</td>\n",
       "      <td>36</td>\n",
       "      <td>31.0</td>\n",
       "      <td>26</td>\n",
       "      <td>63</td>\n",
       "      <td>52</td>\n",
       "      <td>40</td>\n",
       "      <td>29.80</td>\n",
       "      <td>29.73</td>\n",
       "      <td>29.68</td>\n",
       "      <td>0.00</td>\n",
       "      <td>New York City (USA)</td>\n",
       "      <td>Winter</td>\n",
       "    </tr>\n",
       "  </tbody>\n",
       "</table>\n",
       "</div>"
      ],
      "text/plain": [
       "   Unnamed: 0        Date  Max Temp (F)  Mean Temp (F)  Min Temp (F)  \\\n",
       "0           0  2010-01-02            33           25.0            17   \n",
       "1           1  2010-01-03            24           21.0            18   \n",
       "2           2  2010-01-04            32           26.0            20   \n",
       "3           3  2010-01-05            32           27.0            21   \n",
       "4           4  2010-01-06            36           31.0            26   \n",
       "\n",
       "   Max Humidity  Mean Humidity  Min Humidity  Max Pressure (In)  \\\n",
       "0            89             68            46              29.70   \n",
       "1            62             53            44              29.64   \n",
       "2            62             53            43              29.76   \n",
       "3            62             53            43              29.76   \n",
       "4            63             52            40              29.80   \n",
       "\n",
       "   Mean Pressure (In)  Min Pressure (In)  Precipitation (In)  \\\n",
       "0               29.67              29.62                0.01   \n",
       "1               29.55              29.47                0.00   \n",
       "2               29.71              29.66                0.00   \n",
       "3               29.73              29.68                0.00   \n",
       "4               29.73              29.68                0.00   \n",
       "\n",
       "                  City  Season  \n",
       "0  New York City (USA)  Winter  \n",
       "1  New York City (USA)  Winter  \n",
       "2  New York City (USA)  Winter  \n",
       "3  New York City (USA)  Winter  \n",
       "4  New York City (USA)  Winter  "
      ]
     },
     "execution_count": 3,
     "metadata": {},
     "output_type": "execute_result"
    }
   ],
   "source": [
    "weather_data.head()"
   ]
  },
  {
   "cell_type": "code",
   "execution_count": 5,
   "metadata": {},
   "outputs": [],
   "source": [
    "#merge weather and rat data\n",
    "rat_data = rat_data.rename(columns = {'Sighting Date':'Date'})\n",
    "weather_rat = pd.merge(rat_data, weather_data, how=\"inner\", on=\"Date\")\n"
   ]
  },
  {
   "cell_type": "code",
   "execution_count": 6,
   "metadata": {},
   "outputs": [
    {
     "data": {
      "text/html": [
       "<div>\n",
       "<style scoped>\n",
       "    .dataframe tbody tr th:only-of-type {\n",
       "        vertical-align: middle;\n",
       "    }\n",
       "\n",
       "    .dataframe tbody tr th {\n",
       "        vertical-align: top;\n",
       "    }\n",
       "\n",
       "    .dataframe thead th {\n",
       "        text-align: right;\n",
       "    }\n",
       "</style>\n",
       "<table border=\"1\" class=\"dataframe\">\n",
       "  <thead>\n",
       "    <tr style=\"text-align: right;\">\n",
       "      <th></th>\n",
       "      <th>Unnamed: 0_x</th>\n",
       "      <th>Incident ID</th>\n",
       "      <th>Date</th>\n",
       "      <th>Complaint Type</th>\n",
       "      <th>Incident</th>\n",
       "      <th>Location Type</th>\n",
       "      <th>Incident Zip</th>\n",
       "      <th>Borough</th>\n",
       "      <th>X Coordinate (State Plane)</th>\n",
       "      <th>Y Coordinate (State Plane)</th>\n",
       "      <th>...</th>\n",
       "      <th>Max Humidity</th>\n",
       "      <th>Mean Humidity</th>\n",
       "      <th>Min Humidity</th>\n",
       "      <th>Max Pressure (In)</th>\n",
       "      <th>Mean Pressure (In)</th>\n",
       "      <th>Min Pressure (In)</th>\n",
       "      <th>Precipitation (In)</th>\n",
       "      <th>City</th>\n",
       "      <th>Season</th>\n",
       "      <th>Year</th>\n",
       "    </tr>\n",
       "  </thead>\n",
       "  <tbody>\n",
       "    <tr>\n",
       "      <th>0</th>\n",
       "      <td>0</td>\n",
       "      <td>31464015</td>\n",
       "      <td>2015-09-04</td>\n",
       "      <td>Rodent</td>\n",
       "      <td>Rat Sighting</td>\n",
       "      <td>3+ Family Mixed Use Building</td>\n",
       "      <td>10006</td>\n",
       "      <td>Manhattan</td>\n",
       "      <td>980656.0</td>\n",
       "      <td>197137.0</td>\n",
       "      <td>...</td>\n",
       "      <td>82</td>\n",
       "      <td>70</td>\n",
       "      <td>58</td>\n",
       "      <td>30.22</td>\n",
       "      <td>30.07</td>\n",
       "      <td>29.91</td>\n",
       "      <td>0.0</td>\n",
       "      <td>New York City (USA)</td>\n",
       "      <td>Summer</td>\n",
       "      <td>2015</td>\n",
       "    </tr>\n",
       "    <tr>\n",
       "      <th>1</th>\n",
       "      <td>1</td>\n",
       "      <td>31464024</td>\n",
       "      <td>2015-09-04</td>\n",
       "      <td>Rodent</td>\n",
       "      <td>Rat Sighting</td>\n",
       "      <td>Commercial Building</td>\n",
       "      <td>10306</td>\n",
       "      <td>Staten Island</td>\n",
       "      <td>955207.0</td>\n",
       "      <td>148858.0</td>\n",
       "      <td>...</td>\n",
       "      <td>82</td>\n",
       "      <td>70</td>\n",
       "      <td>58</td>\n",
       "      <td>30.22</td>\n",
       "      <td>30.07</td>\n",
       "      <td>29.91</td>\n",
       "      <td>0.0</td>\n",
       "      <td>New York City (USA)</td>\n",
       "      <td>Summer</td>\n",
       "      <td>2015</td>\n",
       "    </tr>\n",
       "    <tr>\n",
       "      <th>2</th>\n",
       "      <td>2</td>\n",
       "      <td>31464025</td>\n",
       "      <td>2015-09-04</td>\n",
       "      <td>Rodent</td>\n",
       "      <td>Rat Sighting</td>\n",
       "      <td>1-2 Family Dwelling</td>\n",
       "      <td>10310</td>\n",
       "      <td>Staten Island</td>\n",
       "      <td>949033.0</td>\n",
       "      <td>169278.0</td>\n",
       "      <td>...</td>\n",
       "      <td>82</td>\n",
       "      <td>70</td>\n",
       "      <td>58</td>\n",
       "      <td>30.22</td>\n",
       "      <td>30.07</td>\n",
       "      <td>29.91</td>\n",
       "      <td>0.0</td>\n",
       "      <td>New York City (USA)</td>\n",
       "      <td>Summer</td>\n",
       "      <td>2015</td>\n",
       "    </tr>\n",
       "    <tr>\n",
       "      <th>3</th>\n",
       "      <td>3</td>\n",
       "      <td>31464026</td>\n",
       "      <td>2015-09-04</td>\n",
       "      <td>Rodent</td>\n",
       "      <td>Rat Sighting</td>\n",
       "      <td>3+ Family Apt. Building</td>\n",
       "      <td>11206</td>\n",
       "      <td>Brooklyn</td>\n",
       "      <td>1000550.0</td>\n",
       "      <td>197585.0</td>\n",
       "      <td>...</td>\n",
       "      <td>82</td>\n",
       "      <td>70</td>\n",
       "      <td>58</td>\n",
       "      <td>30.22</td>\n",
       "      <td>30.07</td>\n",
       "      <td>29.91</td>\n",
       "      <td>0.0</td>\n",
       "      <td>New York City (USA)</td>\n",
       "      <td>Summer</td>\n",
       "      <td>2015</td>\n",
       "    </tr>\n",
       "    <tr>\n",
       "      <th>4</th>\n",
       "      <td>4</td>\n",
       "      <td>31464027</td>\n",
       "      <td>2015-09-04</td>\n",
       "      <td>Rodent</td>\n",
       "      <td>Rat Sighting</td>\n",
       "      <td>3+ Family Mixed Use Building</td>\n",
       "      <td>10462</td>\n",
       "      <td>Bronx</td>\n",
       "      <td>1021648.0</td>\n",
       "      <td>250489.0</td>\n",
       "      <td>...</td>\n",
       "      <td>82</td>\n",
       "      <td>70</td>\n",
       "      <td>58</td>\n",
       "      <td>30.22</td>\n",
       "      <td>30.07</td>\n",
       "      <td>29.91</td>\n",
       "      <td>0.0</td>\n",
       "      <td>New York City (USA)</td>\n",
       "      <td>Summer</td>\n",
       "      <td>2015</td>\n",
       "    </tr>\n",
       "  </tbody>\n",
       "</table>\n",
       "<p>5 rows × 26 columns</p>\n",
       "</div>"
      ],
      "text/plain": [
       "   Unnamed: 0_x  Incident ID        Date Complaint Type      Incident  \\\n",
       "0             0     31464015  2015-09-04         Rodent  Rat Sighting   \n",
       "1             1     31464024  2015-09-04         Rodent  Rat Sighting   \n",
       "2             2     31464025  2015-09-04         Rodent  Rat Sighting   \n",
       "3             3     31464026  2015-09-04         Rodent  Rat Sighting   \n",
       "4             4     31464027  2015-09-04         Rodent  Rat Sighting   \n",
       "\n",
       "                  Location Type  Incident Zip        Borough  \\\n",
       "0  3+ Family Mixed Use Building         10006      Manhattan   \n",
       "1           Commercial Building         10306  Staten Island   \n",
       "2           1-2 Family Dwelling         10310  Staten Island   \n",
       "3       3+ Family Apt. Building         11206       Brooklyn   \n",
       "4  3+ Family Mixed Use Building         10462          Bronx   \n",
       "\n",
       "   X Coordinate (State Plane)  Y Coordinate (State Plane)  ...  Max Humidity  \\\n",
       "0                    980656.0                    197137.0  ...            82   \n",
       "1                    955207.0                    148858.0  ...            82   \n",
       "2                    949033.0                    169278.0  ...            82   \n",
       "3                   1000550.0                    197585.0  ...            82   \n",
       "4                   1021648.0                    250489.0  ...            82   \n",
       "\n",
       "   Mean Humidity  Min Humidity  Max Pressure (In)  Mean Pressure (In)  \\\n",
       "0             70            58              30.22               30.07   \n",
       "1             70            58              30.22               30.07   \n",
       "2             70            58              30.22               30.07   \n",
       "3             70            58              30.22               30.07   \n",
       "4             70            58              30.22               30.07   \n",
       "\n",
       "   Min Pressure (In)  Precipitation (In)                 City  Season  Year  \n",
       "0              29.91                 0.0  New York City (USA)  Summer  2015  \n",
       "1              29.91                 0.0  New York City (USA)  Summer  2015  \n",
       "2              29.91                 0.0  New York City (USA)  Summer  2015  \n",
       "3              29.91                 0.0  New York City (USA)  Summer  2015  \n",
       "4              29.91                 0.0  New York City (USA)  Summer  2015  \n",
       "\n",
       "[5 rows x 26 columns]"
      ]
     },
     "execution_count": 6,
     "metadata": {},
     "output_type": "execute_result"
    }
   ],
   "source": [
    "#create year column\n",
    "weather_rat[\"Year\"] = pd.DatetimeIndex(weather_rat[\"Date\"]).year\n",
    "weather_rat.head()"
   ]
  },
  {
   "cell_type": "markdown",
   "metadata": {},
   "source": [
    "# Seasons\n",
    "\n",
    "Hypothesis - There will be more rat sightings in the Summer because more people and rats are out to enjoy the nice weather!\n",
    "\n",
    "Conclusion - There are more rat sightings in the summer.  Weather is statistically significant with a p value of 1.23e-05"
   ]
  },
  {
   "cell_type": "code",
   "execution_count": 24,
   "metadata": {},
   "outputs": [
    {
     "data": {
      "text/html": [
       "<div>\n",
       "<style scoped>\n",
       "    .dataframe tbody tr th:only-of-type {\n",
       "        vertical-align: middle;\n",
       "    }\n",
       "\n",
       "    .dataframe tbody tr th {\n",
       "        vertical-align: top;\n",
       "    }\n",
       "\n",
       "    .dataframe thead th {\n",
       "        text-align: right;\n",
       "    }\n",
       "</style>\n",
       "<table border=\"1\" class=\"dataframe\">\n",
       "  <thead>\n",
       "    <tr style=\"text-align: right;\">\n",
       "      <th></th>\n",
       "      <th>Year</th>\n",
       "      <th>Season</th>\n",
       "      <th>Count Sightings</th>\n",
       "    </tr>\n",
       "  </thead>\n",
       "  <tbody>\n",
       "    <tr>\n",
       "      <th>3</th>\n",
       "      <td>2010</td>\n",
       "      <td>Winter</td>\n",
       "      <td>1512</td>\n",
       "    </tr>\n",
       "    <tr>\n",
       "      <th>7</th>\n",
       "      <td>2011</td>\n",
       "      <td>Winter</td>\n",
       "      <td>1674</td>\n",
       "    </tr>\n",
       "    <tr>\n",
       "      <th>11</th>\n",
       "      <td>2012</td>\n",
       "      <td>Winter</td>\n",
       "      <td>1870</td>\n",
       "    </tr>\n",
       "    <tr>\n",
       "      <th>15</th>\n",
       "      <td>2013</td>\n",
       "      <td>Winter</td>\n",
       "      <td>2052</td>\n",
       "    </tr>\n",
       "    <tr>\n",
       "      <th>19</th>\n",
       "      <td>2014</td>\n",
       "      <td>Winter</td>\n",
       "      <td>1828</td>\n",
       "    </tr>\n",
       "    <tr>\n",
       "      <th>23</th>\n",
       "      <td>2015</td>\n",
       "      <td>Winter</td>\n",
       "      <td>2227</td>\n",
       "    </tr>\n",
       "  </tbody>\n",
       "</table>\n",
       "</div>"
      ],
      "text/plain": [
       "    Year  Season  Count Sightings\n",
       "3   2010  Winter             1512\n",
       "7   2011  Winter             1674\n",
       "11  2012  Winter             1870\n",
       "15  2013  Winter             2052\n",
       "19  2014  Winter             1828\n",
       "23  2015  Winter             2227"
      ]
     },
     "execution_count": 24,
     "metadata": {},
     "output_type": "execute_result"
    }
   ],
   "source": [
    "# Is weather statistically significant for rat sightings?\n",
    "# create new dataframe grouping count of incidents by year and season\n",
    "year_count = pd.DataFrame({\"Count Sightings\":weather_rat.groupby([\"Year\", \"Season\"])[\"Incident ID\"].count()}).reset_index()\n",
    "year_count\n",
    "autumn = year_count.loc[year_count['Season'] == \"Autumn\"]\n",
    "spring = year_count.loc[year_count['Season'] == \"Spring\"]\n",
    "summer = year_count.loc[year_count['Season'] == \"Summer\"]\n",
    "winter = year_count.loc[year_count['Season'] == \"Winter\"]\n"
   ]
  },
  {
   "cell_type": "code",
   "execution_count": 8,
   "metadata": {},
   "outputs": [
    {
     "data": {
      "text/html": [
       "<div>\n",
       "<style scoped>\n",
       "    .dataframe tbody tr th:only-of-type {\n",
       "        vertical-align: middle;\n",
       "    }\n",
       "\n",
       "    .dataframe tbody tr th {\n",
       "        vertical-align: top;\n",
       "    }\n",
       "\n",
       "    .dataframe thead th {\n",
       "        text-align: right;\n",
       "    }\n",
       "</style>\n",
       "<table border=\"1\" class=\"dataframe\">\n",
       "  <thead>\n",
       "    <tr style=\"text-align: right;\">\n",
       "      <th></th>\n",
       "      <th>Season</th>\n",
       "      <th>Count Sightings</th>\n",
       "    </tr>\n",
       "  </thead>\n",
       "  <tbody>\n",
       "    <tr>\n",
       "      <th>0</th>\n",
       "      <td>Autumn</td>\n",
       "      <td>15129</td>\n",
       "    </tr>\n",
       "    <tr>\n",
       "      <th>1</th>\n",
       "      <td>Spring</td>\n",
       "      <td>20104</td>\n",
       "    </tr>\n",
       "    <tr>\n",
       "      <th>2</th>\n",
       "      <td>Summer</td>\n",
       "      <td>23390</td>\n",
       "    </tr>\n",
       "    <tr>\n",
       "      <th>3</th>\n",
       "      <td>Winter</td>\n",
       "      <td>11163</td>\n",
       "    </tr>\n",
       "  </tbody>\n",
       "</table>\n",
       "</div>"
      ],
      "text/plain": [
       "   Season  Count Sightings\n",
       "0  Autumn            15129\n",
       "1  Spring            20104\n",
       "2  Summer            23390\n",
       "3  Winter            11163"
      ]
     },
     "execution_count": 8,
     "metadata": {},
     "output_type": "execute_result"
    }
   ],
   "source": [
    "#season (all years combined)\n",
    "weather_count = pd.DataFrame({\"Count Sightings\":weather_rat.groupby([\"Season\"])[\"Incident ID\"].count()}).reset_index()\n",
    "weather_count"
   ]
  },
  {
   "cell_type": "code",
   "execution_count": 32,
   "metadata": {},
   "outputs": [
    {
     "data": {
      "image/png": "[encoded data removed]",
      "text/plain": [
       "<Figure size 432x288 with 1 Axes>"
      ]
     },
     "metadata": {
      "needs_background": "light"
     },
     "output_type": "display_data"
    }
   ],
   "source": [
    "plt.bar(weather_count[\"Season\"], weather_count[\"Count Sightings\"] , color=\"red\", alpha=0.5, align=\"center\")\n",
    "\n",
    "plt.title(\"Rat Sightings per Season\")\n",
    "plt.xlabel(\"Season\")\n",
    "plt.ylabel(\"Count of Sightings\")\n",
    "\n",
    "plt.savefig(\"rat_sightings_seasons.png\")"
   ]
  },
  {
   "cell_type": "code",
   "execution_count": 10,
   "metadata": {},
   "outputs": [
    {
     "data": {
      "text/plain": [
       "<matplotlib.axes._subplots.AxesSubplot at 0x1a1c6c7e48>"
      ]
     },
     "execution_count": 10,
     "metadata": {},
     "output_type": "execute_result"
    },
    {
     "data": {
      "image/png": "[encoded data removed]",
      "text/plain": [
       "<Figure size 1440x720 with 1 Axes>"
      ]
     },
     "metadata": {
      "needs_background": "light"
     },
     "output_type": "display_data"
    }
   ],
   "source": [
    "#Is this statistically significant?\n",
    "\n",
    "year_count.boxplot(\"Count Sightings\", by=\"Season\", figsize=(20, 10))\n"
   ]
  },
  {
   "cell_type": "code",
   "execution_count": 27,
   "metadata": {},
   "outputs": [
    {
     "data": {
      "text/plain": [
       "(16.508906404518473, 1.2334395659251597e-05)"
      ]
     },
     "execution_count": 27,
     "metadata": {},
     "output_type": "execute_result"
    }
   ],
   "source": [
    "F, p = stats.f_oneway(autumn[\"Count Sightings\"], spring[\"Count Sightings\"], summer[\"Count Sightings\"], winter[\"Count Sightings\"])\n",
    "F, p"
   ]
  },
  {
   "cell_type": "markdown",
   "metadata": {},
   "source": [
    "# Borough\n",
    "\n",
    "Null Hypothesis - There is no correlation between rat sightings and Borough\n",
    "\n",
    "Conclusion - There is a correlation between rat sightings and borough - you are more likely to come across a rat in Brooklyn than the other four boroughs. This has a p value of 1.87e-08"
   ]
  },
  {
   "cell_type": "code",
   "execution_count": 135,
   "metadata": {},
   "outputs": [
    {
     "data": {
      "text/html": [
       "<div>\n",
       "<style scoped>\n",
       "    .dataframe tbody tr th:only-of-type {\n",
       "        vertical-align: middle;\n",
       "    }\n",
       "\n",
       "    .dataframe tbody tr th {\n",
       "        vertical-align: top;\n",
       "    }\n",
       "\n",
       "    .dataframe thead th {\n",
       "        text-align: right;\n",
       "    }\n",
       "</style>\n",
       "<table border=\"1\" class=\"dataframe\">\n",
       "  <thead>\n",
       "    <tr style=\"text-align: right;\">\n",
       "      <th></th>\n",
       "      <th>Borough</th>\n",
       "      <th>Incident Zip</th>\n",
       "      <th>Count Sightings</th>\n",
       "    </tr>\n",
       "  </thead>\n",
       "  <tbody>\n",
       "    <tr>\n",
       "      <th>0</th>\n",
       "      <td>Bronx</td>\n",
       "      <td>10451</td>\n",
       "      <td>566</td>\n",
       "    </tr>\n",
       "    <tr>\n",
       "      <th>1</th>\n",
       "      <td>Bronx</td>\n",
       "      <td>10452</td>\n",
       "      <td>820</td>\n",
       "    </tr>\n",
       "    <tr>\n",
       "      <th>2</th>\n",
       "      <td>Bronx</td>\n",
       "      <td>10453</td>\n",
       "      <td>818</td>\n",
       "    </tr>\n",
       "    <tr>\n",
       "      <th>3</th>\n",
       "      <td>Bronx</td>\n",
       "      <td>10454</td>\n",
       "      <td>313</td>\n",
       "    </tr>\n",
       "    <tr>\n",
       "      <th>4</th>\n",
       "      <td>Bronx</td>\n",
       "      <td>10455</td>\n",
       "      <td>559</td>\n",
       "    </tr>\n",
       "  </tbody>\n",
       "</table>\n",
       "</div>"
      ],
      "text/plain": [
       "  Borough  Incident Zip  Count Sightings\n",
       "0   Bronx         10451              566\n",
       "1   Bronx         10452              820\n",
       "2   Bronx         10453              818\n",
       "3   Bronx         10454              313\n",
       "4   Bronx         10455              559"
      ]
     },
     "execution_count": 135,
     "metadata": {},
     "output_type": "execute_result"
    }
   ],
   "source": [
    "borough_count = pd.DataFrame({\"Count Sightings\":weather_rat.groupby([\"Borough\", \"Incident Zip\"])[\"Incident ID\"].count()}).reset_index()\n",
    "borough_count.head()\n"
   ]
  },
  {
   "cell_type": "code",
   "execution_count": 136,
   "metadata": {},
   "outputs": [
    {
     "data": {
      "image/png": "[encoded data removed]",
      "text/plain": [
       "<Figure size 432x288 with 1 Axes>"
      ]
     },
     "metadata": {
      "needs_background": "light"
     },
     "output_type": "display_data"
    }
   ],
   "source": [
    "plt.bar(borough_count[\"Borough\"], borough_count[\"Count Sightings\"], color='blue', )\n",
    "plt.title(\"Rat Sightings per Borough\")\n",
    "plt.xlabel(\"Borough\")\n",
    "plt.ylabel(\"Count of Sightings\")\n",
    "\n",
    "plt.savefig(\"rat_sightings_borough.png\")"
   ]
  },
  {
   "cell_type": "code",
   "execution_count": 137,
   "metadata": {},
   "outputs": [
    {
     "data": {
      "text/plain": [
       "<matplotlib.axes._subplots.AxesSubplot at 0x1a2355c1d0>"
      ]
     },
     "execution_count": 137,
     "metadata": {},
     "output_type": "execute_result"
    },
    {
     "data": {
      "image/png": "[encoded data removed]",
      "text/plain": [
       "<Figure size 1440x720 with 1 Axes>"
      ]
     },
     "metadata": {
      "needs_background": "light"
     },
     "output_type": "display_data"
    }
   ],
   "source": [
    "\n",
    "borough_count.boxplot(\"Count Sightings\", by=\"Borough\", figsize=(20, 10))"
   ]
  },
  {
   "cell_type": "code",
   "execution_count": 138,
   "metadata": {},
   "outputs": [],
   "source": [
    "bronx = borough_count.loc[borough_count['Borough'] == \"Bronx\"]\n",
    "brooklyn = borough_count.loc[borough_count['Borough'] == \"Brooklyn\"]\n",
    "manhattan = borough_count.loc[borough_count['Borough'] == \"Manhattan\"]\n",
    "queens = borough_count.loc[borough_count['Borough'] == \"Queens\"]\n",
    "staten_island = borough_count.loc[borough_count['Borough'] == \"Staten Island\"]"
   ]
  },
  {
   "cell_type": "code",
   "execution_count": 139,
   "metadata": {},
   "outputs": [
    {
     "name": "stdout",
     "output_type": "stream",
     "text": [
      "11.657402279024618 1.8708741672342857e-08\n"
     ]
    }
   ],
   "source": [
    "F, p = stats.f_oneway(bronx[\"Count Sightings\"], brooklyn[\"Count Sightings\"], manhattan[\"Count Sightings\"], queens[\"Count Sightings\"], staten_island[\"Count Sightings\"])\n",
    "print(F, p)"
   ]
  },
  {
   "cell_type": "markdown",
   "metadata": {},
   "source": [
    "# Precipitation\n",
    "\n",
    "Null Hypothesis - There is no correlation between precipitation and rat sightings.\n",
    "\n",
    "Conclusions - "
   ]
  },
  {
   "cell_type": "code",
   "execution_count": 71,
   "metadata": {},
   "outputs": [
    {
     "data": {
      "text/html": [
       "<div>\n",
       "<style scoped>\n",
       "    .dataframe tbody tr th:only-of-type {\n",
       "        vertical-align: middle;\n",
       "    }\n",
       "\n",
       "    .dataframe tbody tr th {\n",
       "        vertical-align: top;\n",
       "    }\n",
       "\n",
       "    .dataframe thead th {\n",
       "        text-align: right;\n",
       "    }\n",
       "</style>\n",
       "<table border=\"1\" class=\"dataframe\">\n",
       "  <thead>\n",
       "    <tr style=\"text-align: right;\">\n",
       "      <th></th>\n",
       "      <th>Precipitation (In)</th>\n",
       "      <th>Count Sightings</th>\n",
       "    </tr>\n",
       "  </thead>\n",
       "  <tbody>\n",
       "    <tr>\n",
       "      <th>0</th>\n",
       "      <td>0.00</td>\n",
       "      <td>48231</td>\n",
       "    </tr>\n",
       "    <tr>\n",
       "      <th>1</th>\n",
       "      <td>0.01</td>\n",
       "      <td>2226</td>\n",
       "    </tr>\n",
       "    <tr>\n",
       "      <th>2</th>\n",
       "      <td>0.02</td>\n",
       "      <td>1449</td>\n",
       "    </tr>\n",
       "    <tr>\n",
       "      <th>3</th>\n",
       "      <td>0.03</td>\n",
       "      <td>1403</td>\n",
       "    </tr>\n",
       "    <tr>\n",
       "      <th>4</th>\n",
       "      <td>0.04</td>\n",
       "      <td>912</td>\n",
       "    </tr>\n",
       "  </tbody>\n",
       "</table>\n",
       "</div>"
      ],
      "text/plain": [
       "   Precipitation (In)  Count Sightings\n",
       "0                0.00            48231\n",
       "1                0.01             2226\n",
       "2                0.02             1449\n",
       "3                0.03             1403\n",
       "4                0.04              912"
      ]
     },
     "execution_count": 71,
     "metadata": {},
     "output_type": "execute_result"
    }
   ],
   "source": [
    "#is there a correlation between precipitation and sightings?\n",
    "precipitation_count = pd.DataFrame({\"Count Sightings\":weather_rat.groupby([\"Precipitation (In)\"])[\"Incident ID\"].count()}).reset_index()\n",
    "precipitation_count.head()"
   ]
  },
  {
   "cell_type": "code",
   "execution_count": 73,
   "metadata": {},
   "outputs": [
    {
     "data": {
      "image/png": "[encoded data removed]",
      "text/plain": [
       "<Figure size 432x288 with 1 Axes>"
      ]
     },
     "metadata": {
      "needs_background": "light"
     },
     "output_type": "display_data"
    }
   ],
   "source": [
    "plt.scatter(precipitation_count[\"Precipitation (In)\"], precipitation_count[\"Count Sightings\"], color='blue', )\n",
    "plt.title(\"Rat Sightings vs Precipitation\")\n",
    "plt.xlabel(\"Precipitation\")\n",
    "plt.ylabel(\"Count of Sightings\")\n",
    "\n",
    "plt.savefig(\"rat_sightings_precipitation.png\")\n"
   ]
  },
  {
   "cell_type": "markdown",
   "metadata": {},
   "source": [
    "# Humidity\n",
    "\n",
    "Null Hypothesis - There is no correlation between humidity and rat sightings\n",
    "\n"
   ]
  },
  {
   "cell_type": "code",
   "execution_count": 132,
   "metadata": {},
   "outputs": [
    {
     "data": {
      "text/html": [
       "<div>\n",
       "<style scoped>\n",
       "    .dataframe tbody tr th:only-of-type {\n",
       "        vertical-align: middle;\n",
       "    }\n",
       "\n",
       "    .dataframe tbody tr th {\n",
       "        vertical-align: top;\n",
       "    }\n",
       "\n",
       "    .dataframe thead th {\n",
       "        text-align: right;\n",
       "    }\n",
       "</style>\n",
       "<table border=\"1\" class=\"dataframe\">\n",
       "  <thead>\n",
       "    <tr style=\"text-align: right;\">\n",
       "      <th></th>\n",
       "      <th>Mean Humidity</th>\n",
       "      <th>Count Sightings</th>\n",
       "    </tr>\n",
       "  </thead>\n",
       "  <tbody>\n",
       "    <tr>\n",
       "      <th>0</th>\n",
       "      <td>22</td>\n",
       "      <td>7</td>\n",
       "    </tr>\n",
       "    <tr>\n",
       "      <th>1</th>\n",
       "      <td>25</td>\n",
       "      <td>10</td>\n",
       "    </tr>\n",
       "    <tr>\n",
       "      <th>2</th>\n",
       "      <td>27</td>\n",
       "      <td>125</td>\n",
       "    </tr>\n",
       "    <tr>\n",
       "      <th>3</th>\n",
       "      <td>28</td>\n",
       "      <td>30</td>\n",
       "    </tr>\n",
       "    <tr>\n",
       "      <th>4</th>\n",
       "      <td>29</td>\n",
       "      <td>75</td>\n",
       "    </tr>\n",
       "  </tbody>\n",
       "</table>\n",
       "</div>"
      ],
      "text/plain": [
       "   Mean Humidity  Count Sightings\n",
       "0             22                7\n",
       "1             25               10\n",
       "2             27              125\n",
       "3             28               30\n",
       "4             29               75"
      ]
     },
     "execution_count": 132,
     "metadata": {},
     "output_type": "execute_result"
    }
   ],
   "source": [
    "#is there a correlation between Humidity and Sightings\n",
    "humidity_count = pd.DataFrame({\"Count Sightings\":weather_rat.groupby([\"Mean Humidity\"])[\"Incident ID\"].count()}).reset_index()\n",
    "humidity_count.head()"
   ]
  },
  {
   "cell_type": "code",
   "execution_count": 133,
   "metadata": {},
   "outputs": [
    {
     "data": {
      "image/png": "[encoded data removed]",
      "text/plain": [
       "<Figure size 432x288 with 1 Axes>"
      ]
     },
     "metadata": {
      "needs_background": "light"
     },
     "output_type": "display_data"
    }
   ],
   "source": [
    "plt.scatter(humidity_count[\"Mean Humidity\"], humidity_count[\"Count Sightings\"], color='blue', )\n",
    "plt.title(\"Rat Sightings vs Humidity\")\n",
    "plt.xlabel(\"Humidity\")\n",
    "plt.ylabel(\"Count of Sightings\")\n",
    "\n",
    "plt.savefig(\"rat_sightings_humidity.png\")"
   ]
  },
  {
   "cell_type": "markdown",
   "metadata": {},
   "source": [
    "# Location Type\n",
    "\n",
    "Hypothesis - Rat sightings are more likely to occur in public spaces rather than residential\n",
    "\n",
    "Conclusion - "
   ]
  },
  {
   "cell_type": "code",
   "execution_count": 76,
   "metadata": {},
   "outputs": [
    {
     "data": {
      "text/plain": [
       "3+ Family Apt. Building          27691\n",
       "1-2 Family Dwelling              13832\n",
       "Other (Explain Below)            10154\n",
       "3+ Family Mixed Use Building      5905\n",
       "Commercial Building               3192\n",
       "Vacant Lot                        2651\n",
       "Construction Site                 1371\n",
       "Vacant Building                   1356\n",
       "1-2 Family Mixed Use Building     1231\n",
       "Catch Basin/Sewer                  718\n",
       "Parking Lot/Garage                 561\n",
       "Public Garden                      357\n",
       "Government Building                189\n",
       "School/Pre-School                  133\n",
       "Single Room Occupancy (SRO)        124\n",
       "Public Stairs                       94\n",
       "Day Care/Nursery                    86\n",
       "Office Building                     68\n",
       "Hospital                            67\n",
       "Summer Camp                          6\n",
       "Name: Location Type, dtype: int64"
      ]
     },
     "execution_count": 76,
     "metadata": {},
     "output_type": "execute_result"
    }
   ],
   "source": [
    "weather_rat[\"Location Type\"].value_counts()"
   ]
  },
  {
   "cell_type": "code",
   "execution_count": 115,
   "metadata": {},
   "outputs": [],
   "source": [
    "#rename location types\n",
    "weather_rat_new = weather_rat.replace({\"+ Family Apt. Building\": \"Residential\", \n",
    "                                       \"1-2 Family Dwelling\": \"Residential\",\n",
    "                                       \"3+ Family Mixed Use Building\": \"Residential\",\n",
    "                                       \"3+ Family Apt. Building\": \"Residential\",\n",
    "                                       \"1-2 Family Mixed Use Building\": \"Residential\",\n",
    "                                       \"Single Room Occupancy (SRO)\": \"Residential\",\n",
    "                                       \"Day Care/Nursery\": \"Public Space\",\n",
    "                                       \"School/Pre-School\": \"Public Space\",\n",
    "                                       \"Parking Lot/Garage\": \"Public Space\",\n",
    "                                       \"Public Garden\": \"Public Space\",\n",
    "                                       \"Public Stairs\": \"Public Space\",\n",
    "                                       \"Hospital\": \"Public Space\",\n",
    "                                       \"Office Building\": \"Public Space\",\n",
    "                                       \"Commercial Building\": \"Public Space\",\n",
    "                                       \"Government Building\": \"Public Space\",\n",
    "                                       \"Summer Camp\": \"Public Space\",\n",
    "                                       \"Vacant Lot\": \"Vacant Lot/Building\",\n",
    "                                       \"Vacant Building\": \"Vacant Lot/Building\"})\n"
   ]
  },
  {
   "cell_type": "code",
   "execution_count": 116,
   "metadata": {
    "scrolled": true
   },
   "outputs": [
    {
     "data": {
      "text/plain": [
       "Residential              48783\n",
       "Other (Explain Below)    10154\n",
       "Public Space              4753\n",
       "Vacant Lot/Building       4007\n",
       "Construction Site         1371\n",
       "Catch Basin/Sewer          718\n",
       "Name: Location Type, dtype: int64"
      ]
     },
     "execution_count": 116,
     "metadata": {},
     "output_type": "execute_result"
    }
   ],
   "source": [
    "weather_rat_new[\"Location Type\"].value_counts()"
   ]
  },
  {
   "cell_type": "code",
   "execution_count": 117,
   "metadata": {},
   "outputs": [
    {
     "data": {
      "text/html": [
       "<div>\n",
       "<style scoped>\n",
       "    .dataframe tbody tr th:only-of-type {\n",
       "        vertical-align: middle;\n",
       "    }\n",
       "\n",
       "    .dataframe tbody tr th {\n",
       "        vertical-align: top;\n",
       "    }\n",
       "\n",
       "    .dataframe thead th {\n",
       "        text-align: right;\n",
       "    }\n",
       "</style>\n",
       "<table border=\"1\" class=\"dataframe\">\n",
       "  <thead>\n",
       "    <tr style=\"text-align: right;\">\n",
       "      <th></th>\n",
       "      <th>Location Type</th>\n",
       "      <th>Year</th>\n",
       "      <th>Count Sightings</th>\n",
       "    </tr>\n",
       "  </thead>\n",
       "  <tbody>\n",
       "    <tr>\n",
       "      <th>0</th>\n",
       "      <td>Catch Basin/Sewer</td>\n",
       "      <td>2010</td>\n",
       "      <td>171</td>\n",
       "    </tr>\n",
       "    <tr>\n",
       "      <th>1</th>\n",
       "      <td>Catch Basin/Sewer</td>\n",
       "      <td>2011</td>\n",
       "      <td>97</td>\n",
       "    </tr>\n",
       "    <tr>\n",
       "      <th>2</th>\n",
       "      <td>Catch Basin/Sewer</td>\n",
       "      <td>2012</td>\n",
       "      <td>91</td>\n",
       "    </tr>\n",
       "    <tr>\n",
       "      <th>3</th>\n",
       "      <td>Catch Basin/Sewer</td>\n",
       "      <td>2013</td>\n",
       "      <td>115</td>\n",
       "    </tr>\n",
       "    <tr>\n",
       "      <th>4</th>\n",
       "      <td>Catch Basin/Sewer</td>\n",
       "      <td>2014</td>\n",
       "      <td>111</td>\n",
       "    </tr>\n",
       "  </tbody>\n",
       "</table>\n",
       "</div>"
      ],
      "text/plain": [
       "       Location Type  Year  Count Sightings\n",
       "0  Catch Basin/Sewer  2010              171\n",
       "1  Catch Basin/Sewer  2011               97\n",
       "2  Catch Basin/Sewer  2012               91\n",
       "3  Catch Basin/Sewer  2013              115\n",
       "4  Catch Basin/Sewer  2014              111"
      ]
     },
     "execution_count": 117,
     "metadata": {},
     "output_type": "execute_result"
    }
   ],
   "source": [
    "weather_rat_new.head()\n",
    "\n",
    "weather_rat_new_count = pd.DataFrame({\"Count Sightings\":weather_rat_new.groupby([\"Location Type\", \"Year\"])[\"Incident ID\"].count()}).reset_index()\n",
    "weather_rat_new_count.head()\n"
   ]
  },
  {
   "cell_type": "code",
   "execution_count": 119,
   "metadata": {},
   "outputs": [
    {
     "data": {
      "text/html": [
       "<div>\n",
       "<style scoped>\n",
       "    .dataframe tbody tr th:only-of-type {\n",
       "        vertical-align: middle;\n",
       "    }\n",
       "\n",
       "    .dataframe tbody tr th {\n",
       "        vertical-align: top;\n",
       "    }\n",
       "\n",
       "    .dataframe thead th {\n",
       "        text-align: right;\n",
       "    }\n",
       "</style>\n",
       "<table border=\"1\" class=\"dataframe\">\n",
       "  <thead>\n",
       "    <tr style=\"text-align: right;\">\n",
       "      <th></th>\n",
       "      <th>Location Type</th>\n",
       "      <th>Year</th>\n",
       "      <th>Count Sightings</th>\n",
       "    </tr>\n",
       "  </thead>\n",
       "  <tbody>\n",
       "    <tr>\n",
       "      <th>18</th>\n",
       "      <td>Public Space</td>\n",
       "      <td>2010</td>\n",
       "      <td>637</td>\n",
       "    </tr>\n",
       "    <tr>\n",
       "      <th>19</th>\n",
       "      <td>Public Space</td>\n",
       "      <td>2011</td>\n",
       "      <td>647</td>\n",
       "    </tr>\n",
       "    <tr>\n",
       "      <th>20</th>\n",
       "      <td>Public Space</td>\n",
       "      <td>2012</td>\n",
       "      <td>750</td>\n",
       "    </tr>\n",
       "    <tr>\n",
       "      <th>21</th>\n",
       "      <td>Public Space</td>\n",
       "      <td>2013</td>\n",
       "      <td>728</td>\n",
       "    </tr>\n",
       "    <tr>\n",
       "      <th>22</th>\n",
       "      <td>Public Space</td>\n",
       "      <td>2014</td>\n",
       "      <td>887</td>\n",
       "    </tr>\n",
       "    <tr>\n",
       "      <th>23</th>\n",
       "      <td>Public Space</td>\n",
       "      <td>2015</td>\n",
       "      <td>1104</td>\n",
       "    </tr>\n",
       "  </tbody>\n",
       "</table>\n",
       "</div>"
      ],
      "text/plain": [
       "   Location Type  Year  Count Sightings\n",
       "18  Public Space  2010              637\n",
       "19  Public Space  2011              647\n",
       "20  Public Space  2012              750\n",
       "21  Public Space  2013              728\n",
       "22  Public Space  2014              887\n",
       "23  Public Space  2015             1104"
      ]
     },
     "execution_count": 119,
     "metadata": {},
     "output_type": "execute_result"
    }
   ],
   "source": [
    "residential = weather_rat_new_count.loc[weather_rat_new_count[\"Location Type\"] == \"Residential\"]\n",
    "other = weather_rat_new_count.loc[weather_rat_new_count[\"Location Type\"] == \"Other (Explain Below)\"]\n",
    "vacant = weather_rat_new_count.loc[weather_rat_new_count[\"Location Type\"] == \"Vacant Lot/Building\"]\n",
    "construction = weather_rat_new_count.loc[weather_rat_new_count[\"Location Type\"] == \"Construction Site\"]\n",
    "sewer = weather_rat_new_count.loc[weather_rat_new_count[\"Location Type\"] == \"Catch Basin/Sewer\"]\n",
    "public = weather_rat_new_count.loc[weather_rat_new_count[\"Location Type\"] == \"Public Space\"]\n",
    "public"
   ]
  },
  {
   "cell_type": "code",
   "execution_count": 131,
   "metadata": {},
   "outputs": [
    {
     "data": {
      "image/png": "[encoded data removed]",
      "text/plain": [
       "<Figure size 432x288 with 1 Axes>"
      ]
     },
     "metadata": {
      "needs_background": "light"
     },
     "output_type": "display_data"
    }
   ],
   "source": [
    "plt.plot(residential[\"Year\"], residential[\"Count Sightings\"], marker='^', color='pink', label=\"residential\")\n",
    "plt.plot(other[\"Year\"], other[\"Count Sightings\"], marker='^', color='lightcoral', label=\"other\")\n",
    "plt.plot(vacant[\"Year\"], vacant[\"Count Sightings\"], marker='^', color='indianred', label=\"vacant\")\n",
    "plt.plot(public[\"Year\"], public[\"Count Sightings\"], marker='^', color='red', label=\"public\")\n",
    "plt.plot(construction[\"Year\"], construction[\"Count Sightings\"], marker='^', color='firebrick', label=\"construction\")\n",
    "plt.plot(sewer[\"Year\"], sewer[\"Count Sightings\"], marker='^', color='maroon', label=\"sewer\")\n",
    "plt.legend(loc=\"right\")\n",
    "plt.title(\"Rat Sightings: Location Type vs. Year\")\n",
    "plt.xlabel(\"Year\")\n",
    "plt.ylabel(\"Count of Sightings\")\n",
    "plt.savefig(\"rat_sightings_location.png\")"
   ]
  },
  {
   "cell_type": "code",
   "execution_count": null,
   "metadata": {},
   "outputs": [],
   "source": []
  }
 ],
 "metadata": {
  "kernelspec": {
   "display_name": "Python 3",
   "language": "python",
   "name": "python3"
  },
  "language_info": {
   "codemirror_mode": {
    "name": "ipython",
    "version": 3
   },
   "file_extension": ".py",
   "mimetype": "text/x-python",
   "name": "python",
   "nbconvert_exporter": "python",
   "pygments_lexer": "ipython3",
   "version": "3.6.8"
  }
 },
 "nbformat": 4,
 "nbformat_minor": 2
}
